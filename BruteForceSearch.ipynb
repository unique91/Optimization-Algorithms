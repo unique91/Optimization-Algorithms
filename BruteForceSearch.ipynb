{
  "nbformat": 4,
  "nbformat_minor": 0,
  "metadata": {
    "colab": {
      "provenance": [],
      "authorship_tag": "ABX9TyN/PRacnBcXUofDDlvzuRdk",
      "include_colab_link": true
    },
    "kernelspec": {
      "name": "python3",
      "display_name": "Python 3"
    },
    "language_info": {
      "name": "python"
    }
  },
  "cells": [
    {
      "cell_type": "markdown",
      "metadata": {
        "id": "view-in-github",
        "colab_type": "text"
      },
      "source": [
        "<a href=\"https://colab.research.google.com/github/unique91/Optimization-Algorithms/blob/main/BruteForceSearch.ipynb\" target=\"_parent\"><img src=\"https://colab.research.google.com/assets/colab-badge.svg\" alt=\"Open In Colab\"/></a>"
      ]
    },
    {
      "cell_type": "code",
      "execution_count": 4,
      "metadata": {
        "id": "_YKxCHFI2eS-"
      },
      "outputs": [],
      "source": [
        "import numpy as np\n",
        "import tensorflow as tf\n",
        "import matplotlib.pyplot as plt\n",
        "plt.style.use('ggplot')"
      ]
    },
    {
      "cell_type": "code",
      "source": [
        "plt.rcParams[\"figure.figsize\"] = (15, 6)\n",
        "plt.rcParams['axes.titlesize'] = 16\n",
        "plt.rcParams['axes.labelsize'] = 14\n",
        "block_plot = False"
      ],
      "metadata": {
        "id": "krxeIGXC9e0Q"
      },
      "execution_count": 5,
      "outputs": []
    },
    {
      "cell_type": "code",
      "source": [
        "def create_data():\n",
        "  # Random manual lseed for consistency.\n",
        "  tf.random.set_seed(42)\n",
        "  num_data = 30\n",
        "\n",
        "  # Create some data that is roughly linear\n",
        "  x = 10 * tf.random.uniform(shape=[num_data])\n",
        "  y = x + tf.random.normal(stddev=0.3, shape=[num_data])\n",
        "\n",
        "  return x, y"
      ],
      "metadata": {
        "id": "FnqyN7rU9wrb"
      },
      "execution_count": 6,
      "outputs": []
    },
    {
      "cell_type": "code",
      "source": [
        "x, y = create_data()\n",
        "\n",
        "# Generate the data for the initial line with a slope of 2\n",
        "xmin = tf.reduce_min(x)\n",
        "xmax = tf.reduce_min(x)\n",
        "\n",
        "xplot = np.linspace(xmin, xmax, 2)\n",
        "m0 = 2\n",
        "yplot = m0 * xplot\n",
        "\n",
        "# Plot the sample data and the initial guess for a line\n",
        "plt.figure\n",
        "plt.scatter(x, y, color='blue', s=20)\n",
        "plt.xlabel('x'); plt.ylabel('y')\n",
        "plt.plot(xplot, yplot, 'c--')\n",
        "plt.title('Sample Data with Initial Line')\n",
        "plt.text(1, 7, 'Initial Slope of Line: ' + str(m0), fontsize=14)\n",
        "plt.xlim(0, 10); plt.ylim(0, 10)\n",
        "plt.show(block=block_plot)"
      ],
      "metadata": {
        "id": "lTJs-eEk_3O1"
      },
      "execution_count": null,
      "outputs": []
    },
    {
      "cell_type": "code",
      "source": [
        "# Minimum value of m\n",
        "min_val = 0.0\n",
        "\n",
        "# Maximum value of m\n",
        "max_val = 2.0\n",
        "\n",
        "# Number of steps between min and max values\n",
        "num_steps = 50\n",
        "\n",
        "# Step size\n",
        "step_size = (max_val - min_val) / (num_steps - 1)\n",
        "\n",
        "# Space for storing all values of m\n",
        "m = tf.Variable(tf.zeros(shape=[num_steps]))\n",
        "\n",
        "# Space for storing loss corresponding to different values of m\n",
        "loss = tf.Variable(tf.zeros(shape=[num_steps]))\n",
        "\n",
        "# Calculate loss for all possible m\n",
        "for i in range(0, num_steps):\n",
        "  m[i].assign(min_val + i * step_size)\n",
        "  e = y - m[i] * x\n",
        "  loss[i].assign(tf.reduce_sum(tf.multiply(e, e)) / len(x))\n",
        "  # print(loss[i])\n",
        "\n",
        "# Find the index for lowest loss\n",
        "idx = tf.argmin(loss)\n",
        "\n",
        "# Save best slope\n",
        "m_best = m[idx].numpy()\n",
        "\n",
        "# Minimum loss\n",
        "print('Minimum Loss: ', loss[idx].numpy())\n",
        "\n",
        "# Find the value of m corresponding to lowest loss\n",
        "print('Best parameter: ', m_best)\n",
        "\n",
        "# Plot loss vs m\n",
        "plt.figure\n",
        "plt.plot(m.numpy(), loss.numpy(), color='blue')\n",
        "plt.xlabel('x'); plt.ylabel('loss')\n",
        "plt.title('Brute Force Search')\n",
        "plt.show(block=block_plot)"
      ],
      "metadata": {
        "id": "enQWD_I7Fub5"
      },
      "execution_count": null,
      "outputs": []
    },
    {
      "cell_type": "code",
      "source": [
        "# Compare the Model with the Data\n",
        "def plot_linear_model(x, y, m_best, xlim=(0, 10), ylim=(0, 10)):\n",
        "  xmin = tf.reduce_min(x)\n",
        "  xmax = tf.reduce_max(x)\n",
        "  ymin = tf.reduce_min(y)\n",
        "  ymax = tf.reduce_max(y)\n",
        "\n",
        "  xplot = np.linspace(xmin, xmax, 2)\n",
        "  yplot = m_best * xplot\n",
        "\n",
        "  # Plot the data and the model\n",
        "  plt.figure\n",
        "  plt.xlim(xlim); plt.ylim(ylim)\n",
        "  plt.plot(xplot, yplot, 'c-')\n",
        "  plt.scatter(x, y, color='blue', s=20)\n",
        "  plt.xlabel('x'); plt.ylabel('y')\n",
        "  xc = .05 * (xmax - xmin)\n",
        "  yc = .95 * (ymax - ymin)\n",
        "  plt.text(xc, yc, 'Slope: ' + str(int(m_best*1000)/1000), fontsize=14)\n",
        "  plt.show(block=block_plot)\n",
        "\n",
        "plot_linear_model(x, y, m_best)"
      ],
      "metadata": {
        "id": "Dcmk691bKwR9"
      },
      "execution_count": null,
      "outputs": []
    }
  ]
}